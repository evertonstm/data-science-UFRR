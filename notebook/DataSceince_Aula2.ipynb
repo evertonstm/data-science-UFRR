{
 "cells": [
  {
   "cell_type": "markdown",
   "metadata": {
    "id": "g3WmLLnuaPeP"
   },
   "source": [
    "# DS-001 - INTRODUÇÃO À ANÁLISE DE DADOS COM PYTHON\n",
    "## Aula 01\n",
    "### Prof. Felipe Lobo\n",
    "*Esta disciplina tem 08h de atividades presenciais em sala de aula e 08h on-line no Moodle.*\n",
    "\n",
    "---\n",
    "\n",
    "**Pergunta orientadora:** Que linguagem de programação utlizar para anãlise de dados?\n",
    "\n",
    "**Entregável:** Notebook com uma visão geral de python.\n",
    "\n",
    "**Experiência:** conhecer a linguagem python.\n",
    ".\n",
    "\n",
    "---"
   ]
  },
  {
   "cell_type": "markdown",
   "metadata": {
    "id": "rr4vHpwT3E_V"
   },
   "source": [
    "\n",
    "# **>> Conhecendo Python e Google Colab**\n",
    "\n",
    "O **Colab** é um ambiente de desenvolvimento, que funciona como um notebook, disponibilizando células de **texto** e de **código**. Trata-se de um projeto inspirado no Jupyter Notebook e que permite o compartilhamento de código entre vários usuários.\n",
    "\n",
    "**Python** é uma linguagem de programação de **alto nível**, **interpretada de script** (executada linha por linha por um interpretador, em vez de ser compilada em código de máquina antes da execução), imperativa, orientada a objetos, funcional, de tipagem dinâmica e forte.\n",
    "\n",
    "*Quando dizemos que a linguagem Python é imperativa, orientada a objetos e funcional, estamos descrevendo diferentes paradigmas de programação que a linguagem suporta e combina, a saber:*\n",
    "\n",
    "1.   **Imperativa:** Concentra-se em descrever explicitamente a sequência de instruções que um programa deve seguir para alcançar determinado resultado. Isso inclui estruturas de controle de fluxo como loops e condicionais.\n",
    "2.   **Orientada a objetos:** Organiza o código em torno de objetos que podem conter dados na forma de atributos e comportamentos na forma de métodos.\n",
    "3.   **Funcional:** Trata a computação como a avaliação de funções matemáticas. Isso significa que funções podem ser atribuídas a variáveis, passadas como argumentos para outras funções e retornadas como valores de outras funções. Embora Python não seja uma linguagem puramente funcional, ela suporta muitos conceitos de programação funcional, como funções de ordem superior (aceita função como argumento ou retorna função), funções lambda, compreensões de lista (cria lista de forma simples) e recursão."
   ]
  },
  {
   "cell_type": "markdown",
   "metadata": {
    "id": "kVD_37IK_tkU"
   },
   "source": [
    "### **01. Python - Código versus Comentários**\n",
    "*Tudo o que estiver antecedido por # é comentário, não sendo considerado pelo interpretador do Python.*"
   ]
  },
  {
   "cell_type": "code",
   "execution_count": 1,
   "metadata": {
    "colab": {
     "base_uri": "https://localhost:8080/"
    },
    "id": "G9bVvaOcAexP",
    "outputId": "dea3b9b1-2914-4e9f-9ecd-0ec2dd4d898f"
   },
   "outputs": [
    {
     "name": "stdout",
     "output_type": "stream",
     "text": [
      "Isto é um código\n"
     ]
    }
   ],
   "source": [
    "# Isto é um comentário\n",
    "print(\"Isto é um código\")"
   ]
  },
  {
   "cell_type": "markdown",
   "metadata": {
    "id": "u7aQgc0PRMF0"
   },
   "source": [
    "### **02. Python - Tipos de dados**\n",
    "\n",
    "* **Strings:** série de caracteres. O Python considera tudo o que estiver entre aspas duplas ou simples como uma string. É possível usar aspas duplas dentro de aspas duplas sem gerar erros ou aspas simples dentro de aspas simples. Basta usar o símbolo \\ antes.\n",
    " - Strings podem conter variáveis de modo que o que elas apresentam seja dinâmico. Isso é feito por meio de f-strings. Exemplo: f“{variavel_1}{variável_2}”\n",
    "\n",
    "**Recursos que podemos usar com strings**\n",
    " - **nome_variavel.title():** Transforma a primeira letra de cada palavra em maiúsculo.\n",
    " - **nome_variavel.upper():** Transforma todas as letras em maiúsculas.\n",
    " - **nome_variavel.lower():** Transforma todas as letras em minúsculas.\n",
    " - **“\\t”:** Imprime um recuo.\n",
    " - **“\\n”:** Imprime uma nova linha.\n",
    " - **nome_variavel.rstrip():** Remove espaços em branco à direita, após o último caractere da string.\n",
    " - **nome_variavel.lstrip():** Remove espaços em branco à esquerda, antes do primeiro caractere da string.\n",
    " - **nome_variavel.strip():** Remove espaços em branco à esquerda, antes do primeiro caractere da string, e à direita, após o último caractere da string.\n",
    "\n",
    "* **Números:** série de dígitos.\n",
    " - **Float:** são números racionais, em relação aos quais podemos realizar as operações aritméticas típicas. Também é possível obter um float pela divisão de dois inteiros ou pela realização de qualquer operação entre um inteiro e um float.\n",
    " - **Integer:** são números inteiros, em relação aos quais podemos somar, subtrair, multiplicar e dividir.\n",
    "\n",
    "| Soma | Subtração | Multiplicação | Divisão | Potenciação |\n",
    "|----------|----------|----------|----------|----------|\n",
    "| x + y | x - y | x * y | x / y | x ** y |"
   ]
  },
  {
   "cell_type": "code",
   "execution_count": 2,
   "metadata": {
    "colab": {
     "base_uri": "https://localhost:8080/"
    },
    "id": "_3evXJPKbV7c",
    "outputId": "40dd0206-ebe2-415d-d2ef-57192dfe18cd"
   },
   "outputs": [
    {
     "name": "stdout",
     "output_type": "stream",
     "text": [
      "Primeiras maiúsculas:   Coronavirus Covid19 \n",
      "\n",
      "\n",
      "Todas maiúsculas:   CORONAVIRUS COVID19 \n",
      "\n",
      "\n",
      "Todas minúsculas:   coronavirus covid19 \n",
      "\n",
      "\n",
      "\t Veja um exemplo de recuo\n",
      "\n",
      "\n",
      "\n",
      " Veja um exemplo de impressão de uma nova linha\n",
      "\n",
      "\n",
      "Tamanho da string antes de quaisquer remoções:  21 \n",
      "\n",
      "Remoção de espaços à direita:   CoronaviruS Covid19\n",
      "Tamanho da string após a remoção de espaços à direita:  20\n",
      "\n",
      "\n",
      "Remoção de espaços à esquerda:  CoronaviruS Covid19 \n",
      "Tamanho da string após a remoção de espaços à esquerda:  20\n",
      "\n",
      "\n",
      "Remoção de espaços à esquerda e à direita:  CoronaviruS Covid19\n",
      "Tamanho da string após a remoção de espaços à esquerda e à direita:  19\n"
     ]
    }
   ],
   "source": [
    "var_string = \" CoronaviruS Covid19 \"\n",
    "\n",
    "# Primeiras letras maiúsculas\n",
    "print(\"Primeiras maiúsculas: \", var_string.title())\n",
    "print(\"\\n\")\n",
    "\n",
    "# Todas as letras maiúsculas\n",
    "print(\"Todas maiúsculas: \", var_string.upper())\n",
    "print(\"\\n\")\n",
    "\n",
    "# Todas as letras minúsculas\n",
    "print(\"Todas minúsculas: \", var_string.lower())\n",
    "print(\"\\n\")\n",
    "\n",
    "# Exemplo de recuo de texto\n",
    "print(\"\\t Veja um exemplo de recuo\")\n",
    "print(\"\\n\")\n",
    "\n",
    "# Exemplo de impressão de uma nova linha\n",
    "print(\"\\n Veja um exemplo de impressão de uma nova linha\")\n",
    "print(\"\\n\")\n",
    "\n",
    "# Verificação do tamanho da string\n",
    "print(\"Tamanho da string antes de quaisquer remoções: \", len(var_string), \"\\n\")\n",
    "\n",
    "# Remoção de espaços\n",
    "## à direita\n",
    "print(\"Remoção de espaços à direita: \", var_string.rstrip())\n",
    "print(\"Tamanho da string após a remoção de espaços à direita: \", len(var_string.rstrip()))\n",
    "print(\"\\n\")\n",
    "\n",
    "## à esquerda\n",
    "print(\"Remoção de espaços à esquerda: \", var_string.lstrip())\n",
    "print(\"Tamanho da string após a remoção de espaços à esquerda: \", len(var_string.lstrip()))\n",
    "print(\"\\n\")\n",
    "\n",
    "## remoção de espaços à esquerda e à direita\n",
    "print(\"Remoção de espaços à esquerda e à direita: \", var_string.strip())\n",
    "print(\"Tamanho da string após a remoção de espaços à esquerda e à direita: \", len(var_string.strip()))"
   ]
  },
  {
   "cell_type": "markdown",
   "metadata": {
    "id": "OLwyJAAniK1c"
   },
   "source": [
    "### **03. Python - Função Input**\n",
    "\n",
    "Função que pausa o programa, esperando por uma entrada do usuário que será, então, atribuída a uma variável. Essa função aceita um parâmetro, que são as instruções ou o prompt para que o usuário saiba como agir. Tudo o que o usuário digitar será interpretado pela função input() como uma string.\n",
    "\n",
    "*\t**Erro “TypeError: unorderable types: str() >= int()”:** ocorre quando o programador tenta, por exemplo, comparar o valor recebido da função input() com um número para saber se é igual, maior, menor etc. Mesmo que o usuário tenha informado um número, a função input() entende tudo o que for digitado como string. Para este caso, podemos usar funções como int() e float() de modo a converter o que a função input() recebe."
   ]
  },
  {
   "cell_type": "code",
   "execution_count": 3,
   "metadata": {
    "colab": {
     "base_uri": "https://localhost:8080/"
    },
    "id": "65-CI0AjihuM",
    "outputId": "8692484c-0438-499d-a7d0-5ef493db447e"
   },
   "outputs": [
    {
     "name": "stdin",
     "output_type": "stream",
     "text": [
      "Qual é a marca do seu computador?  macbook\n",
      "Quantos anos o seu computador tem?  2\n"
     ]
    },
    {
     "name": "stdout",
     "output_type": "stream",
     "text": [
      "Verificação se a marca do computador é igual a Acer:  False\n",
      "Verificação se a idade do computador é igual a 2:  True\n"
     ]
    }
   ],
   "source": [
    "marca_computador = input(\"Qual é a marca do seu computador? \")\n",
    "idade_computador = int(input(\"Quantos anos o seu computador tem? \"))\n",
    "\n",
    "print(\"Verificação se a marca do computador é igual a Acer: \", marca_computador == \"Acer\")\n",
    "print(\"Verificação se a idade do computador é igual a 2: \", idade_computador == 2)"
   ]
  },
  {
   "cell_type": "markdown",
   "metadata": {
    "id": "wIpyRvboAxKM"
   },
   "source": [
    "### **04. Python - Variáveis**\n",
    "\n",
    "*Variáveis são rótulos atribuídos a valores. Podemos dizer que uma variável referencia certo valor. Uma variável pode receber diversos tipos de valores, tais como “números inteiros” (tipo int), “números racionais” (tipo float), “True” e “False” (tipo bool) e “texto” (tipo str).*\n",
    "\n",
    "**Nomes de variáveis** só podem conter os caracteres abaixo, sendo que esse não pode começar com um número:\n",
    "1. Letras *(o Python é case sensitive)*\n",
    "2. Números\n",
    "3. Underscores"
   ]
  },
  {
   "cell_type": "code",
   "execution_count": null,
   "metadata": {
    "colab": {
     "base_uri": "https://localhost:8080/"
    },
    "id": "jKUFdr0WPp_F",
    "outputId": "6ee68cef-0dc2-4cd4-a61c-3b5dec107c31"
   },
   "outputs": [
    {
     "name": "stdout",
     "output_type": "stream",
     "text": [
      "Comecei como inteiro:  1\n",
      "Me tornei um float:  1.1\n",
      "Finalizei como um texto:  texto\n"
     ]
    }
   ],
   "source": [
    "# De fato, a linguagem Python tem tipagem dinâmica\n",
    "variavel = 1\n",
    "print(\"Comecei como inteiro: \", variavel)\n",
    "\n",
    "variavel = 1.1\n",
    "print(\"Me tornei um float: \", variavel)\n",
    "\n",
    "variavel = \"texto\"\n",
    "print(\"Finalizei como um texto: \", variavel)"
   ]
  },
  {
   "cell_type": "code",
   "execution_count": null,
   "metadata": {
    "colab": {
     "base_uri": "https://localhost:8080/",
     "height": 176
    },
    "id": "As_nQaUrQZXS",
    "outputId": "853136d5-40fe-4251-be55-c3c9b165f28c"
   },
   "outputs": [
    {
     "ename": "TypeError",
     "evalue": "unsupported operand type(s) for /: 'str' and 'int'",
     "output_type": "error",
     "traceback": [
      "\u001b[0;31m---------------------------------------------------------------------------\u001b[0m",
      "\u001b[0;31mTypeError\u001b[0m                                 Traceback (most recent call last)",
      "\u001b[0;32m<ipython-input-26-f40380850211>\u001b[0m in \u001b[0;36m<cell line: 3>\u001b[0;34m()\u001b[0m\n\u001b[1;32m      1\u001b[0m \u001b[0;31m# Mas a tipagem é forte\u001b[0m\u001b[0;34m\u001b[0m\u001b[0;34m\u001b[0m\u001b[0m\n\u001b[1;32m      2\u001b[0m \u001b[0;31m# Afinal não posso fazer operações não permitidas pelo tipo de dados\u001b[0m\u001b[0;34m\u001b[0m\u001b[0;34m\u001b[0m\u001b[0m\n\u001b[0;32m----> 3\u001b[0;31m \u001b[0mprint\u001b[0m\u001b[0;34m(\u001b[0m\u001b[0;34m\"Não posso dividir um texto: \"\u001b[0m\u001b[0;34m,\u001b[0m \u001b[0mvariavel\u001b[0m \u001b[0;34m/\u001b[0m \u001b[0;36m2\u001b[0m\u001b[0;34m)\u001b[0m\u001b[0;34m\u001b[0m\u001b[0;34m\u001b[0m\u001b[0m\n\u001b[0m",
      "\u001b[0;31mTypeError\u001b[0m: unsupported operand type(s) for /: 'str' and 'int'"
     ]
    }
   ],
   "source": [
    "# Mas a tipagem é forte\n",
    "# Afinal não posso fazer operações não permitidas pelo tipo de dados\n",
    "print(\"Não posso dividir um texto: \", variavel / 2)"
   ]
  },
  {
   "cell_type": "code",
   "execution_count": null,
   "metadata": {
    "colab": {
     "base_uri": "https://localhost:8080/",
     "height": 141
    },
    "id": "0FRZ__c5Qsg9",
    "outputId": "5c74b517-8ae1-4f55-c10b-e36af2414532"
   },
   "outputs": [
    {
     "ename": "TypeError",
     "evalue": "can only concatenate str (not \"int\") to str",
     "output_type": "error",
     "traceback": [
      "\u001b[0;31m---------------------------------------------------------------------------\u001b[0m",
      "\u001b[0;31mTypeError\u001b[0m                                 Traceback (most recent call last)",
      "\u001b[0;32m<ipython-input-27-e59db1c3f8c2>\u001b[0m in \u001b[0;36m<cell line: 1>\u001b[0;34m()\u001b[0m\n\u001b[0;32m----> 1\u001b[0;31m \u001b[0mprint\u001b[0m\u001b[0;34m(\u001b[0m\u001b[0;34m\"Não posso somar um texto: \"\u001b[0m\u001b[0;34m,\u001b[0m \u001b[0mvariavel\u001b[0m \u001b[0;34m+\u001b[0m \u001b[0;36m2\u001b[0m\u001b[0;34m)\u001b[0m\u001b[0;34m\u001b[0m\u001b[0;34m\u001b[0m\u001b[0m\n\u001b[0m",
      "\u001b[0;31mTypeError\u001b[0m: can only concatenate str (not \"int\") to str"
     ]
    }
   ],
   "source": [
    "print(\"Não posso somar um texto: \", variavel + 2)"
   ]
  },
  {
   "cell_type": "code",
   "execution_count": null,
   "metadata": {
    "colab": {
     "base_uri": "https://localhost:8080/",
     "height": 141
    },
    "id": "jvYv5_mJQzye",
    "outputId": "7cc4971f-f7ef-4323-f95c-352de84a784b"
   },
   "outputs": [
    {
     "ename": "TypeError",
     "evalue": "unsupported operand type(s) for -: 'str' and 'int'",
     "output_type": "error",
     "traceback": [
      "\u001b[0;31m---------------------------------------------------------------------------\u001b[0m",
      "\u001b[0;31mTypeError\u001b[0m                                 Traceback (most recent call last)",
      "\u001b[0;32m<ipython-input-28-a2dc847597d1>\u001b[0m in \u001b[0;36m<cell line: 1>\u001b[0;34m()\u001b[0m\n\u001b[0;32m----> 1\u001b[0;31m \u001b[0mprint\u001b[0m\u001b[0;34m(\u001b[0m\u001b[0;34m\"Não posso subtrair um texto: \"\u001b[0m\u001b[0;34m,\u001b[0m \u001b[0mvariavel\u001b[0m \u001b[0;34m-\u001b[0m \u001b[0;36m2\u001b[0m\u001b[0;34m)\u001b[0m\u001b[0;34m\u001b[0m\u001b[0;34m\u001b[0m\u001b[0m\n\u001b[0m",
      "\u001b[0;31mTypeError\u001b[0m: unsupported operand type(s) for -: 'str' and 'int'"
     ]
    }
   ],
   "source": [
    "print(\"Não posso subtrair um texto: \", variavel - 2)"
   ]
  },
  {
   "cell_type": "code",
   "execution_count": null,
   "metadata": {
    "colab": {
     "base_uri": "https://localhost:8080/"
    },
    "id": "AohRPIeFQ5bK",
    "outputId": "6e6c4d3d-b174-4b9b-eaf8-69c39e3c2243"
   },
   "outputs": [
    {
     "name": "stdout",
     "output_type": "stream",
     "text": [
      "Mas posso multiplicar o texto, pois tem o sentido de repetição:  textotexto\n"
     ]
    }
   ],
   "source": [
    "print(\"Mas posso multiplicar o texto, pois tem o sentido de repetição: \", variavel * 2)"
   ]
  },
  {
   "cell_type": "markdown",
   "metadata": {
    "id": "4OY0xes3Pq33"
   },
   "source": [
    "**Importante saber que:**\n",
    "* É possível usar acentos e ‘ç’, embora isso não seja uma prática usual ou recomendada.\n",
    "* Espaços em branco não são aceitos.\n",
    "* Palavras reservadas do Python:\n",
    "\n",
    "| Palavra reservada | Palavra reservada | Palavra reservada | Palavra reservada | Palavra reservada |\n",
    "|----------|----------|----------|----------|----------|\n",
    "| False  | await  | else  | import  | pass  |\n",
    "| None  | break  | except  | in  | raise  |\n",
    "| True  | class  | finally  | is  | return  |\n",
    "| and  | continue  | for  | lambda  | try  |\n",
    "| as  | def  | from  | nonlocal  | while  |\n",
    "| assert  | del  | global  | not  | with  |\n",
    "| async  | elif  | if  | or  | yield  |\n",
    "\n",
    "* Nomes de funções nativas do Python até podem ser usados como nomes de variáveis, mas isso irá inutilizar a chamada a essa função no contexto do seu programa.\n",
    "\n",
    "| Função Nativa    | Função Nativa   | Função Nativa   | Função Nativa    | Função Nativa    |\n",
    "|-------------|------------|------------|-------------|-------------|\n",
    "| abs()       | all()      | any()      | ascii()     | bin()       |\n",
    "| bool()      | breakpoint() | bytearray() | bytes()     | callable()  |\n",
    "| chr()       | classmethod() | compile() | complex()   | delattr()   |\n",
    "| dict()      | dir()      | divmod()   | enumerate() | eval()      |\n",
    "| exec()      | filter()   | float()    | format()    | frozenset() |\n",
    "| getattr()   | globals()  | hasattr()  | hash()      | help()      |\n",
    "| hex()       | id()       | input()    | int()       | isinstance()|\n",
    "| issubclass()| iter()     | len()      | list()      | locals()    |\n",
    "| map()       | max()      | memoryview() | min()     | next()      |\n",
    "| object()    | oct()      | open()     | ord()       | pow()       |\n",
    "| print()     | property() | range()    | repr()      | reversed()  |\n",
    "| round()     | set()      | setattr()  | slice()     | sorted()    |\n",
    "| staticmethod() | str()   | sum()      | super()     | tuple()     |\n",
    "| type()      | vars()     | zip()      | __import__()| ---            |\n",
    "\n",
    "**Atenção:**\n",
    "* *Cuide ao usar letras que se confundem com números, tais como l (letra l) e 1 (número 1), ou O (letra o maiúscula) e 0 (número zero).*\n",
    "* *Um erro do tipo “name ‘nome_da_variável’ is not defined” significa que esquecemos de atribuir um valor para a variável ou cometemos um equívoco na digitação do nome da variável.*"
   ]
  },
  {
   "cell_type": "code",
   "execution_count": null,
   "metadata": {
    "colab": {
     "base_uri": "https://localhost:8080/"
    },
    "id": "CDRCyJNNA41G",
    "outputId": "627cd2f6-fd69-482e-b328-236e705a8db5"
   },
   "outputs": [
    {
     "name": "stdout",
     "output_type": "stream",
     "text": [
      "<class 'int'>\n",
      "Quantos computadores você tem? 3\n",
      "<class 'str'>\n",
      "<class 'int'>\n",
      "Soma =  4\n"
     ]
    }
   ],
   "source": [
    "# Variáveis do tipo inteiro\n",
    "var_int = 1\n",
    "print(type(var_int))\n",
    "\n",
    "var_str_to_int = input(\"Quantos computadores você tem? \")\n",
    "print(type(var_str_to_int))\n",
    "\n",
    "var_str_to_int = int(var_str_to_int)\n",
    "print(type(var_str_to_int))\n",
    "\n",
    "var_soma = var_int + var_str_to_int\n",
    "print(\"Soma = \", var_soma)"
   ]
  },
  {
   "cell_type": "code",
   "execution_count": null,
   "metadata": {
    "colab": {
     "base_uri": "https://localhost:8080/"
    },
    "id": "Y_-H92iFE3SD",
    "outputId": "761b5fa2-d5c5-452d-d66d-60cc6db9b5bb"
   },
   "outputs": [
    {
     "name": "stdout",
     "output_type": "stream",
     "text": [
      "Qual é a sua senha? abc123\n",
      "abc123\n",
      "Quantas vezes quer ver a sua senha na tela? 3\n",
      "Texto repetido 3 vezes:  abc123 abc123 abc123 \n"
     ]
    }
   ],
   "source": [
    "# Variáveis do tipo texto\n",
    "var_str = input(\"Qual é o seu nome? \")\n",
    "print(var_str)\n",
    "\n",
    "var_int = int(input(\"Quantas vezes quer ver o seu nome na tela? \"))\n",
    "print(f\"Texto repetido {var_int} vezes: \", var_int * f\"{var_str} \")"
   ]
  },
  {
   "cell_type": "code",
   "execution_count": null,
   "metadata": {
    "colab": {
     "base_uri": "https://localhost:8080/"
    },
    "id": "kQHiQArKGSeh",
    "outputId": "2fa89fe9-6afa-429a-cb49-f25482e5860a"
   },
   "outputs": [
    {
     "name": "stdout",
     "output_type": "stream",
     "text": [
      "Qual é o número de nascidos vivos no ano em Boa Vista? 4010\n",
      "Qual é a populção de Boa Vista no mesmo ano? 419652\n",
      "Taxa de natalidade =  9.555536492141107\n"
     ]
    }
   ],
   "source": [
    "# Variável do tipo float\n",
    "total_nv = float(input(\"Qual é o número de nascidos vivos no ano em Boa Vista? \"))\n",
    "total_habitantes = float(input(\"Qual é a populção de Boa Vista no mesmo ano? \"))\n",
    "taxa_natalidade = total_nv * 1000/total_habitantes\n",
    "print(\"Taxa de natalidade = \", taxa_natalidade)"
   ]
  },
  {
   "cell_type": "code",
   "execution_count": null,
   "metadata": {
    "colab": {
     "base_uri": "https://localhost:8080/"
    },
    "id": "tOoF1vBqIFrR",
    "outputId": "728f76b9-04b4-4e8e-c19a-638a75909768"
   },
   "outputs": [
    {
     "name": "stdout",
     "output_type": "stream",
     "text": [
      "!False é engraçado porque é True\n"
     ]
    }
   ],
   "source": [
    "# Variável do tipo booleano\n",
    "var_bool_false = False\n",
    "print(f\"!False é engraçado porque é {not var_bool_false}\")"
   ]
  },
  {
   "cell_type": "code",
   "execution_count": null,
   "metadata": {
    "colab": {
     "base_uri": "https://localhost:8080/"
    },
    "id": "5_me8yv4JF23",
    "outputId": "9e40164a-f674-4393-d2c5-e5d3f254ac6b"
   },
   "outputs": [
    {
     "name": "stdout",
     "output_type": "stream",
     "text": [
      "Variáveis criadas: criei apenas 1 variável, 1ª variável da sequência, 2ª variável da sequência, 3\n"
     ]
    }
   ],
   "source": [
    "# Podemos inicializar uma ou mais variáveis na mesma linha de código\n",
    "ini_1_var = \"criei apenas 1 variável\"\n",
    "var_1, var_2, var_3 = \"1ª variável da sequência\", '2ª variável da sequência', 3\n",
    "\n",
    "print(f\"Variáveis criadas: {ini_1_var}, {var_1}, {var_2}, {var_3}\")"
   ]
  },
  {
   "cell_type": "markdown",
   "metadata": {
    "id": "bbiVVXtyUpSP"
   },
   "source": [
    "### **05. Python - Listas**\n",
    "\n",
    "Coleções de itens (textos, números etc.), organizados em uma determinada ordem. Cada item de uma lista pode ser recuperado ou alterado por meio de um índice. O índice 0 refere-se ao primeiro item da lista, o 1 ao segundo e assim por diante. De modo análogo, o índice -1 refere-se ao último item da lista, -2 ao penúltimo e assim sucessivamente.\n",
    "\n"
   ]
  },
  {
   "cell_type": "code",
   "execution_count": null,
   "metadata": {
    "colab": {
     "base_uri": "https://localhost:8080/"
    },
    "id": "0JwglqS-V0PI",
    "outputId": "28d2b70e-a13f-4838-eb8a-a7b3bf1d088e"
   },
   "outputs": [
    {
     "data": {
      "text/plain": [
       "['sangue', 'doenca']"
      ]
     },
     "execution_count": 1,
     "metadata": {},
     "output_type": "execute_result"
    }
   ],
   "source": [
    "# Criação de uma lista de senhas:\n",
    "lista_saude = ['sangue', 'doenca']\n",
    "lista_saude"
   ]
  },
  {
   "cell_type": "markdown",
   "metadata": {
    "id": "BcSrrlXWV0gI"
   },
   "source": [
    "**Recursos que podemos usar com listas**\n",
    "\n",
    "* **nome_lista.append(‘item’):** Adiciona um item ao final da lista.\n",
    "* **nome_lista.insert(indice, ‘item’):** Adiciona um item na lista no índice informado, movendo os demais itens uma posição para a direita.\n",
    "* **del nome_lista[indice]:** Remove o item da lista correspondente ao índice informado.\n",
    "* **nome_lista.pop():** Remove o último item de uma lista, mas de forma que seja possível realizar alguma operação com esse valor removido. É possível também passar um índice como parâmetro para remover um item específico: lista.pop(1)\n",
    "* **nome_lista.remove(‘nome_do_item’):** Remove um item específico a partir da indicação do seu valor. Se existir mais de um item com o mesmo valor, este método removerá apenas o primeiro item que encontrar.\n",
    "* **nome_lista.sort():** Ordena a lista (alterando-a permanentemente) em ordem crescente ou decrescente (alfabética ou não), a depender de o usuário não passar qualquer parâmetro ou informar reverse = True\n",
    "* **nome_lista.sorted():** Ordena uma lista na ordem solicitada pelo usuário (sem parâmetro ou com reverse = True), mas sem alterar a lista original.\n",
    "* **nome_lista.reverse():** Reverte permanentemente a ordem da lista, colocando o último elemento como primeiro, o penúltimo como segundo e assim por diante.\n",
    "* **len(nome_lista):** Contabiliza o número de itens de uma lista e retorna esse valor.\n",
    "* **nome_lista[inicio:parada]:** Esse é o procedimento de slicing, que consiste na obtenção de uma fatia da lista que usa como índice os valores informados, indo de início até parada-1. É possível incluir um terceiro parâmetro, o passo ou “tamanho da iteração”. Só é possível copiar uma lista para outra por meio do sinal de igual se for retirado um slice da lista copiada. Esse slice pode se referir a todos os itens, bastando usar a seguinte sintaxe: lista[:]\n",
    "* Erro “list index out of range” significa que o Python não conseguiu encontrar o índice informado. Por exemplo: o índice informado foi 3, mas a lista só possui três elementos cujos índices são 0, 1 e 2.\n"
   ]
  },
  {
   "cell_type": "code",
   "execution_count": null,
   "metadata": {
    "colab": {
     "base_uri": "https://localhost:8080/"
    },
    "id": "ZrP_sEqzdafn",
    "outputId": "bffbb04c-3d83-4ac6-d412-53e7ed293bdf"
   },
   "outputs": [
    {
     "name": "stdout",
     "output_type": "stream",
     "text": [
      "Tamanho da lista: 3 | Elementos da lista: ['sangue', 'doenca', 'tratamento']\n",
      "['infeccao', 'sangue', 'doenca', 'tratamento']\n"
     ]
    }
   ],
   "source": [
    "lista_saude.append('tratamento')\n",
    "print(f\"Tamanho da lista: {len(lista_saude)} | Elementos da lista: {lista_saude}\")\n",
    "\n",
    "lista_saude.insert(0, 'infeccao')\n",
    "print(lista_saude)"
   ]
  },
  {
   "cell_type": "code",
   "execution_count": null,
   "metadata": {
    "colab": {
     "base_uri": "https://localhost:8080/"
    },
    "id": "QTlU_UI3f8Fl",
    "outputId": "2a827e65-9821-4eb7-d270-67dcffbcb019"
   },
   "outputs": [
    {
     "name": "stdout",
     "output_type": "stream",
     "text": [
      "['sangue', 'doenca', 'tratamento']\n",
      "['sangue', 'doenca']\n",
      "['sangue']\n"
     ]
    }
   ],
   "source": [
    "del lista_saude[0]\n",
    "print(lista_saude)\n",
    "\n",
    "lista_saude.pop()\n",
    "print(lista_saude)\n",
    "\n",
    "lista_saude.remove('doenca')\n",
    "print(lista_saude)"
   ]
  },
  {
   "cell_type": "code",
   "execution_count": null,
   "metadata": {
    "colab": {
     "base_uri": "https://localhost:8080/"
    },
    "id": "st97HonRgIWJ",
    "outputId": "d628986d-816d-47c4-d4d8-9d7d6ca9cc8a"
   },
   "outputs": [
    {
     "name": "stdout",
     "output_type": "stream",
     "text": [
      "[1, 2, 3, 4, 5, 6, 7, 8, 9]\n"
     ]
    }
   ],
   "source": [
    "lista_para_ordenar = [1, 5, 9, 3, 7, 8, 4, 6, 2]\n",
    "lista_para_ordenar.sort()\n",
    "\n",
    "print(lista_para_ordenar)"
   ]
  },
  {
   "cell_type": "code",
   "execution_count": null,
   "metadata": {
    "colab": {
     "base_uri": "https://localhost:8080/"
    },
    "id": "Feo_1zs0k6M5",
    "outputId": "f58b6777-f604-437b-ba3b-7e3e071260cb"
   },
   "outputs": [
    {
     "name": "stdout",
     "output_type": "stream",
     "text": [
      "Lista desordenada:  [1, 5, 9, 3, 7, 8, 4, 6, 2]\n",
      "Lista ordenada em ordem crescente:  [1, 2, 3, 4, 5, 6, 7, 8, 9]\n",
      "Lista ordenada em ordem decrescente:  [9, 8, 7, 6, 5, 4, 3, 2, 1]\n"
     ]
    }
   ],
   "source": [
    "lista_para_ordenar = [1, 5, 9, 3, 7, 8, 4, 6, 2]\n",
    "sorted(lista_para_ordenar)\n",
    "\n",
    "print(\"Lista desordenada: \", lista_para_ordenar)\n",
    "\n",
    "lista_para_ordenar = sorted(lista_para_ordenar)\n",
    "print(\"Lista ordenada em ordem crescente: \", lista_para_ordenar)\n",
    "\n",
    "lista_para_ordenar.reverse()\n",
    "print(\"Lista ordenada em ordem decrescente: \", lista_para_ordenar)"
   ]
  },
  {
   "cell_type": "code",
   "execution_count": null,
   "metadata": {
    "colab": {
     "base_uri": "https://localhost:8080/"
    },
    "id": "hYoGm7aWmOzz",
    "outputId": "864d6249-c48b-4494-8354-17c2d2af2020"
   },
   "outputs": [
    {
     "name": "stdout",
     "output_type": "stream",
     "text": [
      "Impressão da lista completa:  [9, 8, 7, 6, 5, 4, 3, 2, 1]\n",
      "Impressão da lista completa:  [9, 8, 7, 6, 5, 4, 3, 2, 1]\n",
      "Impressão da lista completa:  [9, 8, 7, 6, 5, 4, 3, 2, 1]\n",
      "\n",
      "\n",
      "Impressão do 1º item da lista:  [9]\n",
      "Impressão do 2º item da lista:  [9, 8]\n",
      "Impressão do 3º item da lista:  [9, 8, 7]\n",
      "\n",
      "\n",
      "Impressão apenas do item do meio:  [5]\n",
      "Impressão do último item da lista:  [1]\n",
      "Impressão do último e penúltimo itens da lista:  [2, 1]\n",
      "Impressão dos 3 últimos itens da lista:  [3, 2, 1]\n",
      "\n",
      "\n",
      "Impressão da lista completa menos o primeiro e o último:  [8, 7, 6, 5, 4, 3, 2]\n"
     ]
    }
   ],
   "source": [
    "# Impressão da lista completa\n",
    "print(\"Impressão da lista completa: \", lista_para_ordenar[:])\n",
    "print(\"Impressão da lista completa: \", lista_para_ordenar[0:])\n",
    "print(\"Impressão da lista completa: \", lista_para_ordenar[0:9])\n",
    "print(\"\\n\")\n",
    "\n",
    "# Impressão dos n primeiros itens da lista\n",
    "print(\"Impressão do 1º item da lista: \", lista_para_ordenar[0:1])\n",
    "print(\"Impressão até 2º item da lista: \", lista_para_ordenar[0:2])\n",
    "print(\"Impressão até 3º item da lista: \", lista_para_ordenar[0:3])\n",
    "print(\"\\n\")\n",
    "\n",
    "# Impressão dos n últimos itens da lista\n",
    "print(\"Impressão apenas do item do meio: \", lista_para_ordenar[4:-4])\n",
    "print(\"Impressão do último item da lista: \", lista_para_ordenar[-1:])\n",
    "print(\"Impressão do último e penúltimo itens da lista: \", lista_para_ordenar[-2:])\n",
    "print(\"Impressão dos 3 últimos itens da lista: \", lista_para_ordenar[-3:])\n",
    "print(\"\\n\")\n",
    "\n",
    "print(\"Impressão da lista completa menos o primeiro e o último: \", lista_para_ordenar[1:-1])"
   ]
  },
  {
   "cell_type": "markdown",
   "metadata": {
    "id": "ut1BImdKqNLC"
   },
   "source": [
    "### **06. Python - Tuplas**\n",
    "\n",
    "Listas cujo conteúdo não pode ser alterado, exceto se você alterar integralmente a tupla em um novo comando de atribuição de valores, o que seria o mesmo que sobrescrever a tupla original. É possível identificar cada um de seus elementos por meio do seu índice.\n",
    "\n",
    "* Erro “TypeError: 'tuple' object does not support item assignment” significa que foi criado um comando para tentar alterar o conteúdo de uma tupla."
   ]
  },
  {
   "cell_type": "code",
   "execution_count": null,
   "metadata": {
    "colab": {
     "base_uri": "https://localhost:8080/"
    },
    "id": "wastmUzNreBp",
    "outputId": "d420be18-3bc6-4ef4-aea6-742602440b6c"
   },
   "outputs": [
    {
     "name": "stdout",
     "output_type": "stream",
     "text": [
      "('glaucoma', 'diabetes')\n",
      "Tamanho da tupla:  2\n",
      "('meningite',)\n",
      "Tamanho da tupla:  1\n"
     ]
    }
   ],
   "source": [
    "# Criação de uma tupla com os nomes de dois antivírus:\n",
    "lista_doencas = ('glaucoma', 'diabetes')\n",
    "print(lista_doencas)\n",
    "print(\"Tamanho da tupla: \", len(lista_doencas))\n",
    "\n",
    "# Criação de uma tupla com o nome de um antivírus:\n",
    "lista1_doencas = ('meningite',)\n",
    "print(lista1_doencas)\n",
    "print(\"Tamanho da tupla: \", len(lista1_doencas))"
   ]
  },
  {
   "cell_type": "markdown",
   "metadata": {
    "id": "ZK2aQbMBqeJe"
   },
   "source": [
    "### **07. Python - Dicionário**\n",
    "\n",
    "Consiste em uma coleção de pares chave-valor de modo que é possível usar uma chave para acessar o valor que foi associado a ela. Esse valor pode ser um número, um texto, uma lista ou até mesmo outro dicionário. Dicionários são estruturas dinâmicas, sendo possível adicionar novos pares chave-valor.\n",
    "* Acesso a valor pode ser feito por meio de **nome_dic[‘nome_chave’]**\n",
    "* Se ‘nome_chave’ não existir no nome_dic, isso retornará um erro, sendo, portanto, preferível usar **nome_dic.get(‘nome_chave’, ‘mensagem caso a chave não exista no dic’)**\n",
    " - Se a mensagem de erro, para o caso de a chave não existir, não tiver sido informada e a chave de fato não existir, a função get() retorna None, que indica ausência de valor.\n",
    "* **nome_dic.items():** retorna uma lista de pares chave-valor.\n",
    "* **nome_dic.keys():** retorna uma lista de chaves de um dicionário, sendo possível percorrer todas essas chaves com um loop.\n",
    "* **nome_dic.values():** retorna uma lista de valores de um dicionário, sendo possível percorrer todos esses valores com um loop.\n"
   ]
  },
  {
   "cell_type": "code",
   "execution_count": null,
   "metadata": {
    "colab": {
     "base_uri": "https://localhost:8080/"
    },
    "id": "7xH67kXKs83V",
    "outputId": "10af71ea-36a4-4aa9-fedd-4797d793b493"
   },
   "outputs": [
    {
     "name": "stdout",
     "output_type": "stream",
     "text": [
      "Senhas cadastradas:  {'HGR': '2121-0620', 'Coronel Mota': '2121-7492', 'Hospital Infantil': '3198-3000'}\n",
      "\n",
      "\n",
      "Lista de hospitais com nova inserção:  {'HGR': '2121-0620', 'Coronel Mota': '2121-7492', 'Hospital Infantil': '3198-3000', 'Lotty Iris  ': '3224-1790'}\n",
      "\n",
      "\n",
      "Resultado da pesquisa pela chave HGR:  2121-0620\n",
      "Resultado da pesquisa pela chave HGR:  2121-0620\n",
      "Resultado da pesquisa pela chave Hospital da Mulher:  Chave não encontrada\n",
      "\n",
      "\n",
      "Lista de pares chave-valor do dicionário:  dict_items([('HGR', '2121-0620'), ('Coronel Mota', '2121-7492'), ('Hospital Infantil', '3198-3000'), ('Lotty Iris  ', '3224-1790')])\n",
      "Lista de chaves:  dict_keys(['HGR', 'Coronel Mota', 'Hospital Infantil', 'Lotty Iris  '])\n",
      "Lista de valores:  dict_values(['2121-0620', '2121-7492', '3198-3000', '3224-1790'])\n"
     ]
    }
   ],
   "source": [
    "hospitais_listas = {'HGR': '2121-0620', 'Coronel Mota': '2121-7492', 'Hospital Infantil': '3198-3000'}\n",
    "\n",
    "# Impressão dos hospitais cadastrados\n",
    "print(\"Senhas cadastradas: \", hospitais_listas)\n",
    "print(\"\\n\")\n",
    "\n",
    "# Inserção de novo cadastro no dicionário\n",
    "hospitais_listas['Lotty Iris  '] = '3224-1790'\n",
    "print(\"Lista de hospitais com nova inserção: \", hospitais_listas)\n",
    "print(\"\\n\")\n",
    "\n",
    "# Pesquisa de valor no dicionário a partir de uma chave\n",
    "print(\"Resultado da pesquisa pela chave HGR: \", hospitais_listas['HGR'])\n",
    "print(\"Resultado da pesquisa pela chave HGR: \", hospitais_listas.get('HGR', 'Chave não encontrada'))\n",
    "print(\"Resultado da pesquisa pela chave Hospital da Mulher: \", hospitais_listas.get('Hospital da Mulher', 'Chave não encontrada'))\n",
    "print(\"\\n\")\n",
    "\n",
    "# Retorna lista de pares chave-valor\n",
    "print(\"Lista de pares chave-valor do dicionário: \", hospitais_listas.items())\n",
    "\n",
    "# Retorna lista de chaves de um dicionário\n",
    "print(\"Lista de chaves: \", hospitais_listas.keys())\n",
    "\n",
    "# Retorna lista de valores de um dicionário\n",
    "print(\"Lista de valores: \", hospitais_listas.values())"
   ]
  },
  {
   "cell_type": "markdown",
   "metadata": {
    "id": "1xYI1JRrxIXM"
   },
   "source": [
    "### **08. Indentação**\n",
    "\n",
    "* Consiste em quatro espaços em branco colocados no início de um comando para indicar que eles estão subordinados a um laço de repetição ou a uma estrutura de decisão.\n",
    "* Quando esquecemos de indentar, obtemos o erro “IndentationError: expected an indented block”.\n",
    "* Por outro lado, quando indentamos sem necessidade, o Python apresenta o erro: “IndentationError: unexpected indent”.\n"
   ]
  },
  {
   "cell_type": "markdown",
   "metadata": {
    "id": "P5XxvoYLZARy"
   },
   "source": [
    "### **09. Python - Testes condicionais**\n",
    "\n",
    "Trata-se de um teste que pode resultar em Verdadeiro (True) ou Falso (False). Esse resultado é, então, usado como ***critério para definir se um certo bloco do código deve ou não ser executado***. Quando o resultado é True, o bloco de código é executado, e, quando é False, esse bloco é ignorado.\n",
    "\n",
    "* É possível testar se um valor está em uma lista para, a depender disso, executar um bloco de código. Exemplo: if '123' in lista_senhas\n",
    "* É possível testar se um valor não está em uma lista. Exemplo: if '@' not in lista_senhas\n"
   ]
  },
  {
   "cell_type": "code",
   "execution_count": null,
   "metadata": {
    "colab": {
     "base_uri": "https://localhost:8080/"
    },
    "id": "Uelk1dWBZhbQ",
    "outputId": "4ace23c4-3c78-472b-82e5-056a7464f9e2"
   },
   "outputs": [
    {
     "name": "stdout",
     "output_type": "stream",
     "text": [
      "Deseja cadastrar novo hospital no banco de dados? s/n n\n",
      "Ok. Banco de dados não foi alterado:  dict_keys(['HGR', 'Coronel Mota', 'Hospital Infantil'])\n"
     ]
    },
    {
     "data": {
      "text/plain": [
       "{'HGR': '2121-0620',\n",
       " 'Coronel Mota': '2121-7492',\n",
       " 'Hospital Infantil': '3198-3000'}"
      ]
     },
     "execution_count": 10,
     "metadata": {},
     "output_type": "execute_result"
    }
   ],
   "source": [
    "bd_hospitais = {'HGR': '2121-0620', 'Coronel Mota': '2121-7492', 'Hospital Infantil': '3198-3000'}\n",
    "\n",
    "novo_cadastro = input(\"Deseja cadastrar novo hospital no banco de dados? s/n \")\n",
    "\n",
    "if novo_cadastro == 's':\n",
    "  nova_chave = input('Qual é a novo hospital? ')\n",
    "  novo_telefone = input('Qual é o telefone do novo hospital? ')\n",
    "  bd_hospitais[nova_chave] = novo_telefone\n",
    "  print('Cadastro realizado com sucesso!', bd_hospitais.get(nova_chave, 'Chave não encontrada'))\n",
    "else:\n",
    "  print('Ok. Banco de dados não foi alterado: ', bd_hospitais.keys())\n",
    "\n",
    "bd_hospitais"
   ]
  },
  {
   "cell_type": "markdown",
   "metadata": {
    "id": "xi4TAY38cA9Q"
   },
   "source": [
    "### **10. Python - Laços de repetição**\n",
    "\n",
    "Permite a realização repetida de uma ou mais ações. A quantidade de repetições pode ser pré-determinada (laço for) ou indeterminada (laço while). Laços são úteis, por exemplo, para percorrer todos os itens de uma lista.\n",
    "\n",
    "* **range(inicio, parada, passo):** pode ser útil na criação de laços for porque cria uma coleção de números considerando os parâmetros de início, parada e passo ou “tamanho da iteração”. Essa função sempre executa as ações até parada-1.\n",
    "* **break:** comando que finaliza o funcionamento de laços de repetição sem que o código dentro do laço seja executado.\n",
    "* **continue:** comando que impede a execução do código abaixo dele, retornando para o início do laço de repetição.\n"
   ]
  },
  {
   "cell_type": "code",
   "execution_count": null,
   "metadata": {
    "colab": {
     "base_uri": "https://localhost:8080/"
    },
    "id": "S79jmaOXcgf2",
    "outputId": "659e9db1-7f7b-48f7-85e2-f3f0a1137480"
   },
   "outputs": [
    {
     "name": "stdout",
     "output_type": "stream",
     "text": [
      "Você deseja cadastrar seus contatos de hospitais por meio de um programa que use while (digite w) ou for (digite f)? f\n",
      "Quantos contatos você deseja cadastar? 2\n",
      "Informe a chave: HGR\n",
      "Informe o contato: 2121-0620\n",
      "Informe a chave: Unimed\n",
      "Informe o contato: 3198-8400\n",
      "\t Senhas cadastradas com sucesso: dict_keys(['HGR', 'Unimed'])\n"
     ]
    }
   ],
   "source": [
    "bd_agenda_hospitais = {}\n",
    "ctrl_rept = 1\n",
    "programa_escolhido = input(\"Você deseja cadastrar seus contatos de hospitais por meio de um programa que use while (digite w) ou for (digite f)? \")\n",
    "\n",
    "if programa_escolhido == 'w':\n",
    "  while ctrl_rept == 1:\n",
    "    precisa_cadastrar = input(\"Precisa cadastrar um novo contato? s/n \")\n",
    "    if precisa_cadastrar == 's':\n",
    "      chave = input(\"Informe a chave: \")\n",
    "      contato = input(\"Informe o contato: \")\n",
    "      bd_agenda_hospitais[chave] = contato\n",
    "      print(\"\\t\\t\\t\\t Senha cadastrada com sucesso: \", bd_agenda_hospitais.get(chave, 'Chave não encontrada!'),\" \\n\")\n",
    "    else:\n",
    "      ctrl_rept = 0\n",
    "      print('Ok. Banco de dados não foi alterado: ', bd_agenda_hospitais.keys())\n",
    "else:\n",
    "  qtd_loops = int(input(\"Quantos contatos você deseja cadastar? \"))\n",
    "  for loop in range(1, qtd_loops+1, 1):\n",
    "    chave = input(\"Informe a chave: \")\n",
    "    contato = input(\"Informe o contato: \")\n",
    "    bd_agenda_hospitais[chave] = contato\n",
    "  print(\"\\t Contatos cadastrados com sucesso:\", bd_agenda_hospitais.keys())"
   ]
  },
  {
   "cell_type": "markdown",
   "metadata": {
    "id": "Q68vPzOSj9pk"
   },
   "source": [
    "### **11. Funções**\n",
    "\n",
    "Blocos de código nomeados, que possuem uma finalidade específica. São úteis para que não seja preciso repetir um mesmo conjunto de comandos diversas vezes ao longo de um programa.\n",
    "\n",
    "* Funções podem ou não ter parâmetros associados. Quando isso ocorre, ao chamar a função, é preciso prover os argumentos necessários para que eles sejam atribuídos aos parâmetros da função e, assim, ela possa realizar a sua tarefa de modo apropriado.\n",
    "* Na execução de uma tarefa, funções podem ou não retornar valores para o programa principal. Os valores retornados podem ser um string, um número e até mesmo uma lista ou dicionário.\n",
    "* Podemos também fazer com que uma função receba tantos argumentos quanto o usuário desejar. Para isso, basta inserir um asterisco antes do parâmetro na declaração da função, o que levará o Python a criar uma tupla. Exemplo: def cadastro_senhas(*senhas):\n",
    "* Com dois asteriscos, criamos um dicionário, que aceitará quantos pares de chave-valor o usuário desejar. Esses pares devem ser informados na chamada da função com a seguinte sintaxe: chave='valor'. Exemplo: def info_usuario(prim_nome, ult_nome, **info_usuario):\n",
    "* Para nomear funções, use letras minúsculas e underscore para separar as diferentes palavras, quando isso for o caso.\n",
    " - Os nomes propostos devem descrever o que a função faz.\n",
    " - Para cada função criada, é interessante escrever uma docstring. Trata-se de uma breve descrição do que a função faz. Isso é feito logo após a definição da função, sendo colocado dentro de três aspas duplas. Exemplo: \"\"\" Esta função atualiza a senha do usuário \"\"\"\n"
   ]
  },
  {
   "cell_type": "code",
   "execution_count": null,
   "metadata": {
    "colab": {
     "base_uri": "https://localhost:8080/"
    },
    "id": "nGws0SL_j9AM",
    "outputId": "561287e1-9810-4b75-b2f1-575259da8bcd"
   },
   "outputs": [
    {
     "name": "stdout",
     "output_type": "stream",
     "text": [
      "Informe o nome do hospital o qual deseja cadastrar a sua senha: HGR\n",
      "Informeo contato que deseja cadastrar: 2121-0620\n",
      "Hospital cadastrado:  dict_items([('HGR', '2121-0620')])\n"
     ]
    }
   ],
   "source": [
    "def cadastro_contatos(nome_hospital, valor_telefone, **banco_de_hospitais):\n",
    "  banco_de_hospitais[nome_hospital] = valor_telefone\n",
    "  print(\"Hospital cadastrado: \", banco_de_hospitais.items())\n",
    "\n",
    "nome_hospital = input(\"Informe o nome do hospital o qual deseja cadastrar a sua senha: \")\n",
    "valor_telefone = input(\"Informeo contato que deseja cadastrar: \")\n",
    "cadastro_contatos(nome_hospital=nome_hospital, valor_telefone=valor_telefone)"
   ]
  },
  {
   "cell_type": "code",
   "execution_count": null,
   "metadata": {
    "colab": {
     "base_uri": "https://localhost:8080/"
    },
    "id": "ZLnQL7WhnmRC",
    "outputId": "693e606b-767c-41fa-d1d2-042aa42dffbb"
   },
   "outputs": [
    {
     "name": "stdout",
     "output_type": "stream",
     "text": [
      "Hospital cadastrado:  dict_items([('Cecor', '3224-4712'), ('Unimed', '3198-8400'), ('HGR', '2121-0620')])\n"
     ]
    }
   ],
   "source": [
    "def cadastro_contatos(**banco_de_hospitais):\n",
    "  banco_de_hospitais[nome_hospital] = valor_telefone\n",
    "  print(\"Hospital cadastrado: \", banco_de_hospitais.items())\n",
    "cadastro_contatos(Cecor='3224-4712', Unimed='3198-8400')"
   ]
  },
  {
   "cell_type": "markdown",
   "metadata": {
    "id": "RXDAezQZzdM9"
   },
   "source": [
    "# **>> Exercícios**-\n",
    "\n",
    "1. Pesquise no google, ou chat GPT, a tabela do Índice de Massa Corpórea - IMC.\n",
    "2. Além disso, pesquisa a fórmula para o cálculo do IMC.\n",
    "3. Crie um programa em Python, usando os recursos revisados nesta aula, para a calcular o IMC de uma pessoa baseado em inputs de peso e altura fornecidos pelo usuário. Em seguida, imprima o IMC dessa pessoa e diga em qual faixa ela se encontra, baseada na tabela pesquisada."
   ]
  },
  {
   "cell_type": "code",
   "execution_count": null,
   "metadata": {
    "id": "SgSCODPw0XvA"
   },
   "outputs": [],
   "source": []
  }
 ],
 "metadata": {
  "colab": {
   "provenance": []
  },
  "kernelspec": {
   "display_name": "Python 3 (ipykernel)",
   "language": "python",
   "name": "python3"
  },
  "language_info": {
   "codemirror_mode": {
    "name": "ipython",
    "version": 3
   },
   "file_extension": ".py",
   "mimetype": "text/x-python",
   "name": "python",
   "nbconvert_exporter": "python",
   "pygments_lexer": "ipython3",
   "version": "3.11.7"
  }
 },
 "nbformat": 4,
 "nbformat_minor": 4
}
